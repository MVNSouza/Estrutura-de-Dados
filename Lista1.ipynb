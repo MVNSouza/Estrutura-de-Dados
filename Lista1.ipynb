{
  "nbformat": 4,
  "nbformat_minor": 0,
  "metadata": {
    "colab": {
      "provenance": []
    },
    "kernelspec": {
      "name": "python3",
      "display_name": "Python 3"
    },
    "language_info": {
      "name": "python"
    }
  },
  "cells": [
    {
      "cell_type": "markdown",
      "source": [
        "# Lista de Questões nº1"
      ],
      "metadata": {
        "id": "mdpYhLsoXLLt"
      }
    },
    {
      "cell_type": "markdown",
      "source": [
        "## Jogo de Alarme"
      ],
      "metadata": {
        "id": "i45CkhCVXSWs"
      }
    },
    {
      "cell_type": "code",
      "execution_count": 7,
      "metadata": {
        "id": "9wcW8T5FskMd",
        "colab": {
          "base_uri": "https://localhost:8080/"
        },
        "outputId": "06202c89-934d-4c6e-8ff5-63ebc43d4520"
      },
      "outputs": [
        {
          "output_type": "stream",
          "name": "stdout",
          "text": [
            "E = 4, B = 0\n"
          ]
        }
      ],
      "source": [
        "senha = [1, 2, 3, 3]\n",
        "\n",
        "palpite = [1, 2, 3, 3]\n",
        "\n",
        "E = 0\n",
        "B = 0\n",
        "\n",
        "for s, p in zip(senha, palpite):\n",
        "  if s == p:\n",
        "    E += 1\n",
        "  elif p in senha:\n",
        "    B += 1\n",
        "\n",
        "print(f\"E = {E}, B = {B}\")"
      ]
    },
    {
      "cell_type": "markdown",
      "source": [
        "## Cara ou coroa"
      ],
      "metadata": {
        "id": "l70QucaVXW0k"
      }
    },
    {
      "cell_type": "code",
      "source": [
        "# Exemplos abaixo\n",
        "\n",
        "caderno = [0, 0, 1, 0, 1]\n",
        "# caderno = [0,0, 0, 0, 0, 1]\n",
        "# caderno = [0, 0, 0, 0, 0, 0, 0, 0, 0, 0, 0]\n",
        "\n",
        "joao = sum(caderno)\n",
        "maria =  len(caderno) - joao\n",
        "\n",
        "print(f\"João: {joao}, Maria: {maria}\")\n"
      ],
      "metadata": {
        "colab": {
          "base_uri": "https://localhost:8080/"
        },
        "id": "TkzvXci6Xc5M",
        "outputId": "a7279639-92e9-4057-e845-e1a5e72b117c"
      },
      "execution_count": 27,
      "outputs": [
        {
          "output_type": "stream",
          "name": "stdout",
          "text": [
            "Joao: 2, Maria: 3\n"
          ]
        }
      ]
    },
    {
      "cell_type": "markdown",
      "source": [
        "## Pega Ladrão!"
      ],
      "metadata": {
        "id": "eU1rSJmWbXW4"
      }
    },
    {
      "cell_type": "code",
      "source": [
        "[5, 1, 12]  # Não\n",
        "[12, 10, 7] # Sim\n",
        "[12, 9, 10] # Sim\n",
        "[10, 5, 5]  # Sim\n",
        "[9,12,15]   # Não\n",
        "\n",
        "d, vf, vp = cenario\n",
        "\n",
        "fugiu = vp > vf and vp > d\n",
        "pegou = \"Sim\" if not fugiu else \"Não\"\n",
        "\n",
        "print(f\"Ladrão fugiu? {pegou}\")"
      ],
      "metadata": {
        "colab": {
          "base_uri": "https://localhost:8080/"
        },
        "id": "IVwQtluKbaex",
        "outputId": "f842733a-353f-4d72-e971-254aaba0595f"
      },
      "execution_count": 33,
      "outputs": [
        {
          "output_type": "stream",
          "name": "stdout",
          "text": [
            "Ladrão fugiu? Sim\n"
          ]
        }
      ]
    }
  ]
}
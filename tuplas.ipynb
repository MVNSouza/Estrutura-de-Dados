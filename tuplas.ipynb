{
 "cells": [
  {
   "cell_type": "markdown",
   "metadata": {},
   "source": [
    "# Tuplas\n",
    "## Sintáxe Básica\n",
    "\n",
    "`[nome da váriavel] = ( [valor], [valor2] )`\n",
    "**OU**\n",
    "`[nome da váriavel] = ( [valor], )`\n",
    "\n",
    "**Em termos de organização...** É recomendado utilizar parênteses `'( )'` na declaração das tuplas para melhor legibilidade, porém, é opcional.\n",
    "\n",
    "\n"
   ]
  },
  {
   "cell_type": "code",
   "execution_count": null,
   "metadata": {},
   "outputs": [],
   "source": [
    "t = 1, 2, 3, 4, 5 # tuple t = (1, 2, 3, 4, 5)\n",
    "s = (1, 2, 3, 4, 5) # tuple s = (1, 2, 3, 4, 5)\n",
    "v = 'cat',  # tuple v = ('cat', )\n",
    "y = ('cat') # str y = 'cat'\n",
    "z = ('cat'), # tuple z = ('cat', )\n",
    "\n",
    "print(type(t))\n",
    "print(type(s))\n",
    "print(type(v))\n",
    "print(type(y))\n",
    "print(type(z))"
   ]
  },
  {
   "cell_type": "markdown",
   "metadata": {},
   "source": [
    "### Comparação entre tuplas"
   ]
  },
  {
   "cell_type": "code",
   "execution_count": null,
   "metadata": {},
   "outputs": [],
   "source": []
  },
  {
   "cell_type": "markdown",
   "metadata": {},
   "source": [
    "### Atribuição de Valores"
   ]
  },
  {
   "cell_type": "code",
   "execution_count": null,
   "metadata": {},
   "outputs": [],
   "source": [
    "x, y, z = (2 * 'cat', 0.57721, [1, 2, 3])\n",
    "\n",
    "print(x, y, z)"
   ]
  },
  {
   "cell_type": "markdown",
   "metadata": {},
   "source": [
    "### Desempacotamentos\n",
    "> ⚠ O desempacotamento de tuplas é um recurso que nos permite atribuir valores a múltiplas variáveis em uma única declaração. Ele funciona desempacotando uma sequência (por exemplo, uma `tuple` , `list` ou `str` ) em variáveis individuais."
   ]
  },
  {
   "cell_type": "code",
   "execution_count": null,
   "metadata": {},
   "outputs": [],
   "source": []
  },
  {
   "cell_type": "markdown",
   "metadata": {},
   "source": [
    "## Exercícios"
   ]
  },
  {
   "cell_type": "code",
   "execution_count": null,
   "metadata": {},
   "outputs": [],
   "source": [
    "personagens = [\n",
    "(\"BoJack Horseman\", \"Will Arnett\", \"Cavalo\"),\n",
    "(\"Princess Carolyn\", \"Amy Sedaris\", \"Gato\"),\n",
    "(\"Diane Nguyen\", \"Alison Brie\", \"Humano\"),\n",
    "(\"Mr. Peanutbutter\", \"Paul F. Tompkins\", \"Cachorro\"),\n",
    "(\"Todd Chavez\", \"Aaron Paul\", \"Humano\")\n",
    "]\n",
    "\n",
    "for i in personagens:\n",
    "    personagem, dublador, especie = i\n",
    "    print(f'{personagem} é um {especie} dublado por {dublador}')"
   ]
  },
  {
   "cell_type": "markdown",
   "metadata": {},
   "source": [
    "# Funções & Propriedades\n",
    "* Comparação \n",
    "* Atribuição\n",
    "* Desempacotamento\n",
    "* Enumerate\n",
    "* Zip"
   ]
  },
  {
   "cell_type": "markdown",
   "metadata": {},
   "source": [
    "## Comparação "
   ]
  },
  {
   "cell_type": "code",
   "execution_count": null,
   "metadata": {},
   "outputs": [],
   "source": [
    "# A comparação de tuplas funciona no sentido de um dicionário. Comparando item por item.\n",
    "\n",
    "(1, 2, 3) < (2, 2, 3) # True\n",
    "(2, 2, 20) <= (2, 2, 2) # False\n",
    "(1, 2, 3) < (1, 2, 3, 4) # True\n",
    "('rato', 'gato','pato') < ('gato','rato','pato') # False\n",
    "(1,'gato', (1, 2, 3)) > (0,'baleia', (1, 2, 0)) # True"
   ]
  },
  {
   "cell_type": "markdown",
   "metadata": {},
   "source": [
    "## Atribuição"
   ]
  },
  {
   "cell_type": "code",
   "execution_count": null,
   "metadata": {},
   "outputs": [],
   "source": []
  },
  {
   "cell_type": "markdown",
   "metadata": {},
   "source": [
    "# Exercícios\n"
   ]
  },
  {
   "cell_type": "markdown",
   "metadata": {},
   "source": [
    "## Exercício 1\n",
    "Chico tem 1,50m e cresce 2cm por ano, enquanto Zé tem 1,10m e cresce 3cm por ano. <br>\n",
    "Construa um algoritmo que calcule e imprima em quantos ano Zé será maior que Chico."
   ]
  },
  {
   "cell_type": "code",
   "execution_count": null,
   "metadata": {},
   "outputs": [],
   "source": [
    "for ano, amigos in enumerate(zip((150, 3, 2), (110, 1, 2))):\n",
    "    "
   ]
  },
  {
   "cell_type": "code",
   "execution_count": 36,
   "metadata": {},
   "outputs": [
    {
     "name": "stdout",
     "output_type": "stream",
     "text": [
      " Dia: 11 Saldo: -17\n",
      " Dia: 12 Saldo: -47\n",
      " Dia: 13 Saldo: -80\n",
      " Dia: 14 Saldo: -42\n",
      " Dia: 15 Saldo: -6\n",
      " Dia: 17 Saldo: -17\n",
      " Dia: 18 Saldo: -1\n"
     ]
    }
   ],
   "source": [
    "transacoes = [49, 40, -32, 11, 18, 9, -32, 1, -8, -34, -39, -30, -33, 38, 36,\n",
    " 35, -46, 16, 43, -23, 44, -22, 50, -50, 46, 24, 49, -42, 12, -1]\n",
    "saldo = 0\n",
    "\n",
    "for dia, valor in enumerate(transacoes, start=1):\n",
    "    saldo += valor\n",
    "    if saldo < 0:\n",
    "        print(f\" Dia: {dia} Saldo: {saldo}\")\n",
    "    \n"
   ]
  },
  {
   "cell_type": "code",
   "execution_count": null,
   "metadata": {},
   "outputs": [],
   "source": []
  }
 ],
 "metadata": {
  "kernelspec": {
   "display_name": "Python 3",
   "language": "python",
   "name": "python3"
  },
  "language_info": {
   "codemirror_mode": {
    "name": "ipython",
    "version": 3
   },
   "file_extension": ".py",
   "mimetype": "text/x-python",
   "name": "python",
   "nbconvert_exporter": "python",
   "pygments_lexer": "ipython3",
   "version": "3.10.6"
  },
  "orig_nbformat": 4
 },
 "nbformat": 4,
 "nbformat_minor": 2
}
